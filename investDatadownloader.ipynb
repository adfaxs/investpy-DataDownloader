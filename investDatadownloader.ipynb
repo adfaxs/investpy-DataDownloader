{
 "metadata": {
  "language_info": {
   "codemirror_mode": {
    "name": "ipython",
    "version": 3
   },
   "file_extension": ".py",
   "mimetype": "text/x-python",
   "name": "python",
   "nbconvert_exporter": "python",
   "pygments_lexer": "ipython3",
   "version": "3.8.10"
  },
  "orig_nbformat": 2,
  "kernelspec": {
   "name": "python3810jvsc74a57bd0c3e5d506cb742a7a1a9413631a72639548eb7e4c6177fe9d350f967afb9eb90e",
   "display_name": "Python 3.8.10 64-bit ('InvestDatafeed': conda)"
  },
  "metadata": {
   "interpreter": {
    "hash": "c3e5d506cb742a7a1a9413631a72639548eb7e4c6177fe9d350f967afb9eb90e"
   }
  }
 },
 "nbformat": 4,
 "nbformat_minor": 2,
 "cells": [
  {
   "cell_type": "code",
   "execution_count": 1,
   "metadata": {},
   "outputs": [],
   "source": [
    "import investpy\n",
    "import datetime"
   ]
  },
  {
   "cell_type": "code",
   "execution_count": 3,
   "metadata": {},
   "outputs": [],
   "source": [
    "stocks_list = investpy.get_stocks_list(country='india')\n",
    "\n",
    "with open('stocklist.txt', 'w') as f:\n",
    "    f.write('\\n'.join(stocks_list))"
   ]
  },
  {
   "source": [
    "start=datetime.date.today()-datetime.timedelta(50)\n",
    "start.strftime(\"%d/%m/%Y\")\n",
    "\n"
   ],
   "cell_type": "code",
   "metadata": {},
   "execution_count": null,
   "outputs": []
  },
  {
   "cell_type": "code",
   "execution_count": null,
   "metadata": {},
   "outputs": [],
   "source": [
    "df = investpy.get_stock_recent_data(stock='INFY',\n",
    "                                    country='india')\n",
    "print(df.head())                                    \n",
    "                                    "
   ]
  },
  {
   "cell_type": "code",
   "execution_count": null,
   "metadata": {},
   "outputs": [],
   "source": [
    "company_profile = investpy.get_stock_company_profile(stock='INFY',\n",
    "                                                     country='india')\n",
    "print(company_profile)\n"
   ]
  },
  {
   "cell_type": "code",
   "execution_count": null,
   "metadata": {},
   "outputs": [],
   "source": [
    "investpy.stocks.get_stock_information(stock='INFY', country='india', as_json=False)"
   ]
  },
  {
   "cell_type": "code",
   "execution_count": null,
   "metadata": {},
   "outputs": [],
   "source": [
    "import progressbar\n",
    "from time import sleep\n"
   ]
  },
  {
   "cell_type": "code",
   "execution_count": null,
   "metadata": {},
   "outputs": [],
   "source": [
    "\n"
   ]
  },
  {
   "cell_type": "code",
   "execution_count": null,
   "metadata": {},
   "outputs": [],
   "source": []
  }
 ]
}