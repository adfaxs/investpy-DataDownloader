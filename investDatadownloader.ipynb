{
 "metadata": {
  "language_info": {
   "codemirror_mode": {
    "name": "ipython",
    "version": 3
   },
   "file_extension": ".py",
   "mimetype": "text/x-python",
   "name": "python",
   "nbconvert_exporter": "python",
   "pygments_lexer": "ipython3",
   "version": "3.8.10"
  },
  "orig_nbformat": 2,
  "kernelspec": {
   "name": "python3810jvsc74a57bd0c3e5d506cb742a7a1a9413631a72639548eb7e4c6177fe9d350f967afb9eb90e",
   "display_name": "Python 3.8.10 64-bit ('InvestDatafeed': conda)"
  },
  "metadata": {
   "interpreter": {
    "hash": "c3e5d506cb742a7a1a9413631a72639548eb7e4c6177fe9d350f967afb9eb90e"
   }
  }
 },
 "nbformat": 4,
 "nbformat_minor": 2,
 "cells": [
  {
   "cell_type": "code",
   "execution_count": 4,
   "metadata": {},
   "outputs": [],
   "source": [
    "import investpy\n",
    "import datetime"
   ]
  },
  {
   "cell_type": "code",
   "execution_count": null,
   "metadata": {},
   "outputs": [],
   "source": []
  },
  {
   "cell_type": "code",
   "execution_count": null,
   "metadata": {},
   "outputs": [],
   "source": [
    "stocks_list = investpy.get_stocks_list(country='india')\n",
    "#stocks_list = investpy.indices.get_indices(country='india')\n",
    "with open('stocklist2.txt', 'w') as f:\n",
    "    f.write('\\n'.join(stocks_list))"
   ]
  },
  {
   "cell_type": "code",
   "execution_count": null,
   "metadata": {},
   "outputs": [],
   "source": [
    "investpy.get_stock_countries()"
   ]
  },
  {
   "source": [
    "start=datetime.date.today()-datetime.timedelta(50)\n",
    "start.strftime(\"%d/%m/%Y\")\n",
    "\n"
   ],
   "cell_type": "code",
   "metadata": {},
   "execution_count": null,
   "outputs": []
  },
  {
   "cell_type": "code",
   "execution_count": null,
   "metadata": {},
   "outputs": [],
   "source": [
    "df = investpy.get_stock_recent_data(stock='ITDC',\n",
    "                                    country='india')\n",
    "print(df.head())                                    \n",
    "                                    "
   ]
  },
  {
   "cell_type": "code",
   "execution_count": null,
   "metadata": {},
   "outputs": [],
   "source": [
    "company_profile = investpy.get_stock_company_profile(stock='infy',\n",
    "                                                     country='india')\n",
    "print(company_profile)\n"
   ]
  },
  {
   "cell_type": "code",
   "execution_count": null,
   "metadata": {},
   "outputs": [],
   "source": [
    "investpy.stocks.get_stock_information(stock='INFY', country='india', as_json=False)"
   ]
  },
  {
   "cell_type": "code",
   "execution_count": null,
   "metadata": {},
   "outputs": [],
   "source": [
    "investpy.stocks.get_stocks(country='india')"
   ]
  },
  {
   "cell_type": "code",
   "execution_count": null,
   "metadata": {},
   "outputs": [],
   "source": [
    "investpy.get_stock_historical_data(stock='Hubt', country='india', from_date='01/01/2000', to_date='01/01/2021')\n"
   ]
  },
  {
   "cell_type": "code",
   "execution_count": 44,
   "metadata": {
    "tags": []
   },
   "outputs": [],
   "source": [
    "stocks_list =investpy.stocks.get_stocks_dict(country='india', columns=['full_name','symbol'], as_json=False)\n",
    "#print(stocks_list)\n",
    "i=len(stocks_list)\n",
    "f= open('stocklist.txt', 'w')\n",
    "for x in range(i):\n",
    "     dictt=list(stocks_list[x].values())\n",
    "     stri=str(dictt)\n",
    "     stri=stri.replace(\"'\",'')\n",
    "     stri=stri.replace(\"[\",'')\n",
    "     stri=stri.replace(\"]\",'')\n",
    "     stri=stri.replace('\"','')\n",
    "     stri=stri.replace(\".\",'')\n",
    "     f.write(stri)\n",
    "     if x<i-1:\n",
    "         f.write('\\n')\n",
    "f.close()\n",
    "     \n",
    "\n",
    "\n"
   ]
  },
  {
   "cell_type": "code",
   "execution_count": 40,
   "metadata": {
    "tags": [
     "outputPrepend"
    ]
   },
   "outputs": [
    {
     "output_type": "stream",
     "name": "stdout",
     "text": [
      "orp Ltd\nWhirlpool of India Ltd\nWipro Ltd\nWockhardt Ltd\nYes Bank Ltd\nZee Entertainment Enterprises Ltd.\nZydus Wellness Ltd\nDen Networks Ltd\nD.B.Corp Ltd\nPrime Focus Ltd\nNestle India Ltd\nSchneider Electric Infrastructure Ltd\nStandard Chartered PLC DRC\nAbbott India Ltd\nInternational Paper APPM Ltd\nGe T&D India Ltd\nArshiya Ltd\nA2z Infra Engineering Ltd BO\nBajaj Corp Ltd\nBayer Cropscience Ltd\nBharti Infratel Ltd\nBalkrishna Industries Ltd.\nBank of Maharashtra Ltd\nCredit Analysis And Research Ltd\nElecon Engineering Co.Ltd\nEros International Media Ltd\nESS DEE Aluminum Ltd\nGOCL Corp Ltd\nGravita India Ltd\nGRUH Finance Ltd\nHindustan Copper Ltd\nHMT Ltd\nICRA Ltd\nIL&FS Transportation Networks Ltd\nIndiabulls Real Estate Ltd\nJBF Industries Ltd.\nJindal Saw Ltd.\nJ.K. Cement Ltd\nJK Lakshmi Cement Ltd\nJyothy Laboratories Ltd\nKirloskar Oil Engines Ltd\nKaveri Seed Company Ltd\nLovable Lingerie Ltd\nL&T Finance Holdings Ltd\nMagma Fincorp Ltd\nMahindra Holidays and Resorts India Ltd\nMandhana Industries Ltd\nMulti Commodity Exchange of India Ltd\nMMTC Ltd\nManappuram Finance Ltd\nMOIL Ltd\nMuthoot Finance Ltd\nNatco Pharma Ltd.\nNitin Fire Protection Industries Ltd\nNIIT Technologies Ltd\nNesco Ltd\nOnMobile Global Ltd.\nPC Jeweller Ltd\nPolyplex Corporation Ltd\nPrakash Industries Ltd.\nPunjab & Sind Bank\nRain Industries Ltd\nSE Investments Ltd\nShriram-City Union Finance Ltd.\nSiti Networks Ltd\nSJVN Ltd\nSolar Industries India Ltd\nSun Pharma Advanced Research Company Ltd\nSwan Energy Ltd\nTechno Electric & Engineering Company Ltd\nTexmaco Rail & Engineering Ltd\nTree House Education and Accessories Ltd\nTime Technoplast Ltd\nTimken India Ltd\nTitagarh Wagons Ltd\nTriveni Turbine Ltd\nTTK Prestige Ltd.\nTata Teleservices (Maharashtra) Ltd\nUnited Bank of India\nVakrangee Softwares Ltd.\nVardhman Textiles Ltd\nVa Tech Wabag Ltd\nV Guard Industries Ltd\nWABCO India Ltd\nZylog Systems Ltd\nBilcare Ltd\nBlue Circle Services Ltd\nCCL International Ltd\nIndian Infotech Software Ltd\nKGN Enterprises Ltd\nNovartis India Ltd\nPI Industries Ltd\nShree Global Tradefin Ltd\nSpicejet Ltd\nSymphony Ltd\nTuni Textile Mills Ltd\nVikas Wsp Ltd\nBrightcom Group Ltd\nAbbott India Ltd\nInternational Paper APPM Ltd\nGe T&D India Ltd\nArshiya Ltd\nA2z Infra Engineering Ltd\nBajaj Corp Ltd\nBayer Cropscience Ltd\nBharti Infratel Ltd\nBalkrishna Industries Ltd.\nBank of Maharashtra Ltd\nCARE Ratings Ltd\nElecon Engineering Co.Ltd\nEros International Media Ltd\nESS DEE Aluminum Ltd\nGOCL Corp Ltd\nGravita India Ltd\nGRUH Finance Ltd\nHindustan Copper Ltd\nHMT Ltd\nICRA Ltd\nIL&FS Transportation Networks Ltd\nIndiabulls Real Estate Ltd\nJBF Industries Ltd.\nJindal Saw Ltd.\nJ.K. Cement Ltd\nJK Lakshmi Cement Ltd\nJyothy Laboratories Ltd\nKirloskar Oil Engines Ltd\nKaveri Seed Company Ltd\nLovable Lingerie Ltd\nL&T Finance Holdings Ltd\nMagma Fincorp Ltd\nMahindra Holidays and Resorts India Ltd\nGB Global Ltd\nMulti Commodity Exchange of India Ltd\nMMTC Ltd\nManappuram Finance Ltd\nMOIL Ltd\nMuthoot Finance Ltd\nNatco Pharma Ltd.\nNitin Fire Protection Industries Ltd\nNIIT Technologies Ltd\nNesco Ltd\nOnMobile Global Ltd.\nPC Jeweller Ltd\nPolyplex Corporation Ltd\nPrakash Industries Ltd.\nPunjab & Sind Bank\nRain Industries Ltd\nState Bank of Mysore\nSE Investments Ltd\nShriram-City Union Finance Ltd.\nSiti Networks Ltd\nSJVN Ltd\nSolar Industries India Ltd\nSun Pharma Advanced Research Company Ltd\nSwan Energy Ltd\nTechno Electric & Engineering Company Ltd\nTexmaco Rail & Engineering Ltd\nTree House Education and Accessories Ltd\nTime Technoplast Ltd\nTimken India Ltd\nTitagarh Wagons Ltd\nTriveni Turbine Ltd\nTata Motors Ltd DVR\nIndiabulls Housing Finance Ltd\nTata Motors DV Ltd\nInterglobe Aviation Ltd\nICICI Prudential Life Insurance Company Ltd\nAvenue Supermarts Ltd\nICICI Lombard General Insurance Company Ltd\nSBI Life Insurance Company Ltd\nGeneral Insurance Corporation of India\nNew India Assurance Company Ltd\nHDFC Life Insurance Company Ltd\nBandhan Bank Ltd\nHDFC Asset Management Company Ltd\nVakrangee Softwares Ltd.\nV Guard Industries Ltd\nPI Industries Ltd\nNBCC India Ltd\nWelspun India Ltd\nAditya Birla Fashion and Retail Ltd\nAjanta Pharma Ltd\nSyngene International Ltd\nIDFC Bank Ltd\nAlkem Laboratories Ltd\nDr Lal PathLabs Ltd\nCrompton Greaves Consumer Electricals Ltd\nMahanagar Gas Ltd\nRBL Bank Ltd\nEndurance Technologies Cn Ltd\nPNB Housing Finance Ltd\nHousing and Urban Development Corporation Ltd\nAU Small Finance Bank Ltd\nTTK Prestige Ltd.\nVardhman Textiles Ltd\nVa Tech Wabag Ltd\nWABCO India Ltd\nJust Dial Ltd\nBombay Burmah Trading Corporation Ltd\nTrident Ltd\nHeritage Foods Ltd\nPVR Ltd\nKolte Patil Developers Ltd\nMaharashtra Scooters Ltd\nVaibhav Global Ltd\nIntellect Design Arena Ltd\nIndiabulls Integrated Services Ltd\nSudarshan Chemical Industries Ltd\nCaplin Point Laboratories Ltd\nFuture Lifestyle Fashions Ltd\nGulf Oil Lubricants India Ltd\nHimadri Speciality Chemical Ltd\nNavin Fluorine International Ltd\nJohnson Controls-Hitachi Air Conditioning India Ltd\nRatnamani Metals Tubes Ltd\nAlembic Pharmaceuticals Ltd\nMahindra CIE Automotive Ltd\nITD Cementation India Ltd\nJamna Auto Industries Ltd\nPhillips Carbon Black Ltd\nCapri Global Capital Ltd\nSuprajit Engineering Ltd\nAstral Poly Technik Ltd\nHatsun Agro Product Ltd\nOrient Refractories Ltd\nSuven Life Sciences Ltd\nCCL Products India Ltd\nGarware Wall Ropes Ltd\nRepco Home Finance Ltd\nCera Sanitaryware Ltd\nKNR Constructions Ltd\nAPL Apollo Tubes Ltd\nBliss GVS Pharma Ltd\nGayatri Projects Ltd\nGrindwell Norton Ltd\nMinda Industries Ltd\nRelaxo Footwears Ltd\nSundaram Clayton Ltd\nAegis Logistics Ltd\nAshoka Buildcon Ltd\nShilpa Medicare Ltd\nVinati Organics Ltd\nDeepak Nitrite Ltd\nGranules India Ltd\nIFB Industries Ltd\nKEI Industries Ltd\nTake Solutions Ltd\nOrient Cement Ltd\nV Mart Retail Ltd\nDalmia Bharat Ltd B\nJK Paper Ltd\nKPR Mill Ltd\nSymphony Ltd\nMinda Corporation Ltd\nCEAT Ltd\nKRBL Ltd\nITI Ltd\nAvanti Feeds Ltd\nIndia Tourism Development Corp Ltd\nVRL Logistics Ltd\nPNC Infratech Ltd\nAdani Transmission Ltd\nCoffee Day Enterprises Ltd\nS H Kelkar And Company Ltd\nLux Industries Ltd\nNarayana Hrudayalaya Ltd\nTeamlease Services Ltd\nJindal Stainless Hisar Ltd\nInfibeam Avenues Ltd\nEquitas Holdings Ltd\nParag Milk Foods Ltd\nThyrocare Technologies Ltd\nUjjivan Financial Services Ltd\nMax India Ltd\nQuess Corp Ltd\nLarsen & Toubro Infotech Ltd\nAdvanced Enzyme Technologies Ltd\nDilip Buildcon Ltd\nFuture Retail Ltd\nL&T Technology Services Ltd\nVarun Beverages Ltd\nLaurus Labs Ltd\nSheela Foam Ltd\nTCI Express Ltd\nBSE Ltd\nCentral Depository Services India Ltd\nEris Lifesciences Ltd\nSecurity and Intelligence Services Ltd\nCochin Shipyard Ltd\nStar Cement Ltd\nDixon Technologies India Pvt Ltd\nGodrej Agrovet Ltd\nDishman Carbogen Amcis Ltd\nMAS Financial Services Ltd\nIndian Energy Exchange Ltd\nReliance Nippon Life Asset Management Ltd\nMahindra Logistics Ltd\nTube Investments of India Ltd\nAmber Enterprises India Ltd\nGalaxy Surfactants Limited\nAster DM Healthcare Ltd\nHindustan Aeronautics Ltd\nBharat Dynamics Ltd\nICICI Securities Ltd\nLemon Tree Hotels\nIndoStar Capital Finance Ltd\nOrient Electric Ltd\nVarroc Engineering Ltd\nAdani Green Energy Ltd\nRITES Ltd\nFine Organic Industries Ltd\nTCNS Clothing Co Ltd\nCreditAccess Grameen Ltd\nIrcon International Ltd\nAavas Financiers Ltd\nAdani Gas Ltd\nChalet Hotels Ltd\nArvind Fashions Ltd\nRail Vikas Nigam Ltd\nMetropolis Healthcare Ltd\nPolycab India Ltd\nKPIT Technologies Ltd\nIndo Count Industries Ltd\nRupa Company Ltd\nKwality Ltd\nInox Wind Ltd\nManpasand Beverages Ltd\nNavkar Corporation Ltd\nIndia Tourism Development Corp Ltd\nRamkrishna Forgings Ltd\nIndoco Remedies Ltd\nSharda Cropchem Ltd\nShankara Building Products Ltd\nSintex Plastics Technology Ltd\nReliance Home Finance Ltd\nAccelya Solutions India Ltd\nVidhi Dyestuffs Manufacturing Ltd\nNBCC India Ltd\nPVR Ltd\nFinolex Cables Ltd\nJust Dial Ltd BO\nTribhovandas Bhimji Zaveri Ltd\nVaibhav Global Ltd-BO\nWestlife Development Ltd-BO\nZensar Technologies Ltd\nAjanta Pharma Ltd-BO\nAlembic Pharmaceuticals Ltd-BO\nAstral Poly Technik Ltd-BO\nAtul Ltd-BO\nBombay Burmah Trading Corporation Ltd\nCEAT Ltd-BO\nDCM Shriram Ltd-BO\nFirstsource Solutions Ltd-BO\nFuture Lifestyle Fashions Ltd\nGati Ltd-BO\nGIC Housing Finance Ltd-BO\nGrindwell Norton Ltd-BO\nGulf Oil Lubricants India Ltd\nHawkins Cookers Ltd-BO\nHinduja Global Solutions Ltd\nJohnson Controls-Hitachi Air Conditioning India Ltd\nIndiabulls Housing Finance Ltd\nIndoco Remedies Ltd-BO\nINOX Leisure Ltd-BO\nJK Tyre & Industries Ltd-BO\nKolte Patil Developers Ltd-BO\nLakshmi Vilas Bank Ltd\nMahindra CIE Automotive Ltd-BO\nOrient Cement Ltd-BO\nRattanIndia Power Ltd\nRepco Home Finance Ltd-BO\nSelan Exploration Technology Ltd\nSharda Cropchem Ltd-BO\nSOM Distilleries and Breweries Ltd\nSonata Software Ltd\nTata Sponge Iron Ltd-BO\nMinda Corp Ltd\nHikal Ltd-BO\nGranules India Ltd\nAshoka Buildcon Ltd\nFairchem Speciality Ltd\nAarti Drugs Ltd\nAegis Logistics Ltd\nAshiana Housing Ltd\nAjmera Realty and Infra India Ltd\nAlkyl Amines Chemicals Ltd\nApar Industries Ltd\nApcotex Industries Ltd\nAPL Apollo Tubes Ltd\nAstra Micro Wave Products Ltd\nAutomotive Axles Ltd\nAtul Auto Ltd\nAvanti Feeds Ltd\nAXISCADES Engineering Technologies Ltd\nBF Investment Ltd\nBliss GVS Pharma Ltd\nBalaji Telefilms Ltd\nBanco Products India Ltd\nBodal Chemicals Ltd\nBorosil Glass Works Ltd\nBrigade Enterprises Ltd\nButterfly Gandhimathi Appliances Ltd\nCamlin Fine Sciences Ltd\nCapri Global Capital Ltd\nCaplin Point Laboratories Ltd\nCCL Products India Ltd\nCentrum Capital Ltd\nCera Sanitaryware Ltd\nCigniti Technologies Ltd\nCan Fin Homes Ltd\nCentury Enka Ltd\nCentury Plyboards (India) Ltd\nDatamatics Global Services Ltd\nDCW Ltd\nDhanuka Agritech Ltd\nD-Link India Ltd\nDeepak Nitrite Ltd\nDredging Corporation of India Ltd\nElectrosteel Castings Ltd\nInox Wind Ltd BO\nITI Ltd\nSnowman Logistics Ltd\n3i Infotech Ltd\nWonderla Holidays Ltd\nMEP Infrastructure Development Ltd\nUFO Moviez India Ltd\nVRL Logistics Ltd\nAction Construction Equipment Ltd\nHeidelbergCement India Ltd\nKitex Garments Ltd\nKRBL Ltd\nMarksans Pharma Ltd\nMastek Ltd\nMerck Ltd\nNectar Lifesciences Ltd\nNucleus Software Exports Ltd\nPanacea Biotec Ltd\nShilpa Medicare Ltd\nSasken Communication Technologies Ltd\nExpleo Solutions Ltd\nSuven Life Sciences Ltd\nVimta Labs Ltd\nVivimed Labs Ltd\nPNC Infratech Ltd\nFineotex Chemical Ltd\nWelspun Enterprises Ltd\nAdani Transmission Ltd\nSyngene International Ltd\nAlankit Ltd\nArvind Smartspaces Ltd\nITD Cementation India Ltd\nKaya Ltd\nMajesco Ltd\nNavkar Corporation Ltd\nPower Mech Projects Ltd\nPrabhat Dairy Ltd\nCoffee Day Enterprises Ltd\nIDFC Bank Ltd\nSatin Creditcare Network Ltd\nInterglobe Aviation Ltd\nS H Kelkar And Company Ltd\nJ Kumar Infraprojects Ltd\nJamna Auto Industries Ltd\nAlkem Laboratories Ltd\nDr Lal PathLabs Ltd\nSetco Automotive Ltd\nVikas Ecotech Ltd\nBhageria Industries Ltd\nLux Industries Ltd\nNarayana Hrudayalaya Ltd\nJindal Stainless Hisar Ltd\nTeamlease Services Ltd BO\nMold Tek Packaging Ltd\nQuick Heal Technologies Ltd\nSeQuent Scientific Ltd\nAditya Birla Fashion and Retail Ltd\nKamdhenu Ltd\nWelspun India Ltd\nInfibeam Avenues Ltd\nEquitas Holdings Ltd\nAditya Birla Money Ltd\nAdor Welding Ltd\nAlphageo India Ltd\nAmbika Cotton Mills Ltd\nADF Foods Ltd\nAsian Granito India Ltd\nAstec Lifesciences Ltd\nBalaji Amines Ltd\nBharat Bijlee Ltd\nBhansali Engineering Polymers Ltd\nB L Kashyap and Sons Ltd\nBirla Cable Ltd\nCerebra Integrated Technologies Ltd\nCantabil Retail India Ltd\nCosmo Films Ltd\nDhampur Sugar Mills Ltd\nDeep Industries Ltd\nDalmia Bharat Sugar and Industries Ltd\nDwarikesh Sugar Industries Ltd\nEverest Kanto Cylinder Ltd\nElectrotherm India Ltd\nEmami Infrastructure Ltd\nEveready Industries India Ltd\nESAB India Ltd\nEssel Propack Ltd\nEverest Industries Ltd\nExcel Industries Ltd\nFederal-Mogul Goetze India Ltd\nFiem Industries Ltd\nFilatex India Ltd\nFuture Enterprises Ltd R\nGabriel India Ltd\nGujarat Ambuja Exports Ltd\nGayatri Projects Ltd\nGodawari Power and Ispat Ltd\nGenus Power Infrastructures Ltd\nGeojit Bnp Paribas Financial Services Ltd\nGHCL Ltd\nGanesh Housing Corp Ltd\nGujarat Industries Power Company Ltd\nGlobus Spirits Ltd\nG M Breweries Ltd\nGoa Carbon Ltd\nOlectra Greentech Ltd\nGokaldas Exports Ltd\nGarware Wall Ropes Ltd\nGufic Biosciences Ltd\nHBL Power Systems Ltd\nHeritage Foods Ltd\nHester Biosciences Ltd\nHIL Ltd\nHimadri Speciality Chemical Ltd\nHimatsingka Seide Ltd\nHonda Siel Power Products Ltd\nHuhtamaki PPL Ltd\nIndo Count Industries Ltd\nIFB Industries Ltd\nIgarashi Motors India Ltd\nIndia Glycols Ltd\nI G Petrochemicals Ltd\nIndian Hume Pipe Company Ltd\nIndian Metals and Ferro Alloys Ltd\nIndiabulls Ventures Ltd\nIndiabulls Integrated Services Ltd\nIntellect Design Arena Ltd\nIOL Chemicals and Pharmaceuticals Ltd\nInsecticides India Ltd\nJayant Agro-Organics Ltd\nJain Irrigation Systems Ltd\nJBM Auto Ltd\nJindal Worldwide Ltd\nJK Paper Ltd\nJMC Projects (India) Ltd\nJay Bharat Maruti Ltd\nKEI Industries Ltd\nKellton Tech Solutions Ltd\nKilitch Drugs India Ltd\nKiri Industries Ltd\nKalyani Steels Ltd\nKNR Constructions Ltd\nKPR Mill Ltd\nKirloskar Brothers Ltd\nKridhan Infra Ltd\nKSB Ltd\nLa Opala R G Ltd\nLG Balakrishnan & Bros Ltd\nLiberty Shoes Ltd\nLincoln Pharmaceuticals Ltd\nLT Foods Ltd\nLumax AutoTechnologies Ltd\nLumax Industries Ltd\nMan Infraconstruction Ltd\nMayur Uniquoters Ltd\nMeghmani Organics Ltd\nMangalam Cement Ltd\nMaharashtra Scooters Ltd\nMan Industries India Ltd\nMIRC Electronics Ltd\nMirza International Ltd\nMM Forgings Ltd\nMinda Industries Ltd\nMunjal Showa Ltd\nManali Petrochemicals Ltd\nMonte Carlo Fashions Ltd\nMorepen Laboratories Ltd\nMT Educare Ltd\nMunjal Auto Industries Ltd\nMukand Ltd\nMuthoot Capital Services Ltd\nNavin Fluorine International Ltd\nNath Bio-Genes India Ltd\nNRB Bearings Ltd\nNcl Industries Ltd\nNitco Ltd\nNelco Ltd\nNeuland Laboratories Ltd\nNila Infrastructures Ltd\nNitin Spinners Ltd\nNilkamal Ltd\nNelcast Ltd\nNocil Ltd\nOriental Carbon & Chemicals Ltd\nOrient Paper and Industries Ltd\nOrient Refractories Ltd\nDalmia Bharat Ltd B\nPanama Petrochem Ltd\nPunjab Chemicals and Crop Protection Ltd\nPennar Industries Ltd\nPhillips Carbon Black Ltd\nPNB Gilts Ltd\nPPAP Automotive Ltd\nPricol Ltd\nProzone Intu Properties Ltd\nPTC India Financial Services Ltd\nRane Brake Linings Ltd\nRamco Industries Ltd\nRane Madras Ltd\nRamky Infrastructure Ltd\nRane Holdings Ltd\nRico Auto Industries Ltd\nRuchira Papers Ltd\nRamkrishna Forgings Ltd\nRelaxo Footwears Ltd\nRamco Systems Ltd\nRatnamani Metals and Tubes Ltd\nRoyal Orchid Hotels Ltd\nRpg Life Sciences Ltd\nRPP Infra Projects Ltd\nResponsive Industries Ltd\nRSWM Ltd\nRupa and Company Ltd\nRushil Decor Ltd\nSarda Energy & Minerals Ltd\nSakuma Exports Ltd\nSaregama India Ltd\nSudarshan Chemical Industries Ltd\nSeamec Ltd\nSunflag Iron and Steel Co Ltd\nShivam Autotech Ltd\nShemaroo Entertainment Ltd\nShalimar Paints Ltd\nShakti Pumps India Ltd\nSiyaram Silk Mills Ltd\nSkipper Ltd\nSML Isuzu Ltd\nSanghi Industries Ltd\nSanghvi Movers Ltd\nSanwaria Agro Oils Ltd\nSomany Ceramics Ltd\nJTEKT India Ltd\nShree Pushkar Chemicals & Fertilisers Ltd\nSpeciality Restaurants Ltd\nSupreme Petrochem Ltd\nSrikalahasthi Pipes Ltd\nSeshasayee Paper and Boards Ltd\nSoril Infra Resources Ltd\nSterling Tools Ltd\nSteel Strips Wheels Ltd\nSubros Ltd\nSubex Ltd\nSuprajit Engineering Ltd\nSurya Roshni Ltd\nSwaraj Engines Ltd\nTAJ GVK Hotels and Resorts Ltd\nTake Solutions Ltd\nTransport Corporation of India Ltd\nTD Power Systems Ltd\nTechnocraft Industries India Ltd\nTourism Finance Corporation of India Ltd\nThirumalai Chemicals Ltd\nTinplate Company of India Ltd\nTata Metaliks Ltd\nTanla Solutions Ltd\nTamilnadu Petroproducts Ltd\nTriveni Engineering and Industries Ltd\nTrident Ltd\nTrigyn Technologies Ltd\nTVS Electronics Ltd\nTVS Srichakra Ltd\nTV Today Network Ltd\nUniply Industries Ltd\nUniversal Cables Ltd\nUttam Sugar Mills Ltd\nVascon Engineers Ltd\nVadilal Industries Ltd\nVenky’s India Ltd\nVipul Ltd\nV-mart Retail Ltd\nVindhya Telelinks Ltd\nVinati Organics Ltd\nVoltamp Transformers Ltd\nV2 Retail Ltd\nVisaka Industries Ltd\nVST Tillers Tractors Ltd\nWalchandnagar Industries Ltd\nWeizmann Forex Ltd\nWindsor Machines Ltd\nWest Coast Paper Mills Ltd\nZee Learn Ltd\nZee Media Corporation Ltd\nZen Technologies Ltd\nZuari Agro Chemicals Ltd\nZuari Global Ltd\nCrompton Greaves Consumer Electricals Ltd\nParag Milk Foods Ltd\nThyrocare Technologies Ltd\nUjjivan Financial Services Ltd\nMax Ventures and Industries Ltd NS\nMahanagar Gas Ltd NS\nMax India Ltd NS\nQuess Corp Ltd NS\nLarsen Toubro Infotech Ltd\nAdvanced Enzyme Technologies Ltd\nPrabhat Telecoms (India) Ltd\nDilip Buildcon Ltd\nFuture Retail Ltd\nAndhra Petrochemicals Ltd\nAlbert David Ltd\nApollo Pipes Ltd\nAssociated Alcohols & Breweries Ltd\nConfidence Petroleum India Ltd\nDFM Foods Ltd\nDIL Ltd\nDolat Investments Ltd\nForce Motors Ltd\nGMM Pfaudler Ltd\nGrauer And Weil India Ltd\nJump Networks Ltd\nIsgec Heavy Engineering Ltd\nKennametal India Ltd\nKirloskar Ferrous Industries Ltd\nMangalam Organics Ltd\nMedicamen Biotech Ltd\nN R Agarwal Industries Ltd\nNational Peroxide Ltd\nOptiemus Infracom Ltd\nApollo Tricoat Tubes Ltd\nPokarna Ltd\nRBL Bank Ltd\nSadhana Nitro Chem Ltd\nSafari Industries India Ltd\nSeya Industries Ltd\nShiva Cement Ltd\nTGV SRAAC Ltd\nSandur Manganese and Iron Ores Ltd\nTasty Bite Eatables Ltd\nTranspek Industry Ltd\nVishal Fabrics Ltd\nWPIL Ltd\nWaterbase Ltd\nYuken India Ltd\nBLS International Services Ltd\nGNA Axles Ltd\nICICI Prudential Life Insurance Company Ltd\nL&T Technology Services Ltd\nHPL Electric & Power Pvt Ltd\nEndurance Technologies Cn Ltd\nPNB Housing Finance Ltd\nVarun Beverages Ltd\nLaurus Labs Ltd\nSheela Foam Ltd\nTCI Express Ltd\nAvenue Supermarts Ltd\nMusic Broadcast Ltd\nShankara Building Products Ltd\nS Chand and Company Ltd\nHousing and Urban Development Corporation Ltd\nPsp Projects Ltd\nEris Lifesciences Ltd\nTejas Networks Ltd\nAU Small Finance Bank Ltd\nStar Cement Ltd\nAvadh Sugar & Energy Ltd\nSalasar Techno Engineering Ltd\nSintex Plastics Technology Ltd\nApex Frozen Foods Ltd\nAditya Birla Capital Ltd\nCochin Shipyard Ltd\nKudremukh Iron Ore Co\nSecurity and Intelligence Services INDIA Ltd\nCapacite Infraprojects Ltd\nDixon Technologies India Pvt Ltd\nICICI Lombard General Insurance Company Ltd\nReliance Home Finance Ltd\nSBI Life Insurance Company Ltd\nPrataap Snacks Ltd\nGodrej Agrovet Ltd\nDishman Carbogen Amcis Ltd\nMAS Financial Services Ltd\nGeneral Insurance Corporation of India\nIndian Energy Exchange Ltd\nReliance Nippon Life Asset Management Ltd\nNew India Assurance Company Ltd\nMahindra Logistics Ltd\nHDFC Life Insurance Company Ltd\nKhadim India Ltd\nTube Investments of India Ltd\nFuture Supply Chain Solutions Ltd\nShalby Ltd\nAstron Paper & Board Mill Ltd\nApollo Micro Systems Ltd\nGalaxy Surfactants Limited BO\nAmber Enterprises India Ltd\nNewgen Software Technologies Ltd\nAster DM Healthcare Ltd\nH.G.Infra Engineering Limited\nHindustan Aeronautics Ltd\nBandhan Bank Ltd\nBharat Dynamics Ltd\nMishra Dhatu Nigam Ltd\nSandhar Technologies Ltd\nICICI Securities Ltd\nLemon Tree Hotels\nIndoStar Capital Finance Ltd\nVarroc Engineering Ltd\nFine Organic Industries Ltd\nRITES Ltd\nAdani Green Energy Ltd\nSolara Active Pharma Sciences Ltd\nTalwalkars Lifestyles Ltd\nOrient Electric Ltd\nTCNS Clothing Co Ltd\nHDFC Asset Management Company Ltd\nCreditAccess Grameen Ltd\nIrcon International Ltd\nGarden Reach Shipbuilders & Engineers Ltd\nAavas Financiers Ltd\nAdani Gas Ltd\n\"Spencers Retail Ltd\"\nCESC Ventures Ltd\nChalet Hotels Ltd\nAnup Engineering Ltd\nMSTC Ltd\nArvind Fashions Ltd\nRail Vikas Nigam Ltd\nMetropolis Healthcare Ltd\nPolycab India Ltd\nNeogen Chemicals Ltd\nKPIT Technologies Ltd\nCoastal Corporation\nGlobal Infratech and Finance Ltd\nIndiaMART InterMESH Ltd\nAffle India Ltd\nSterling and Wilson Solar Ltd BO\nSpandana Sphoorty Financial Ltd BO\nIndian Railway Catering And Tourism Corp\nBCPL Railway Infrastructure Ltd\nDiksha Greens Ltd\nDeccan Health Care Ltd\nRoni Households Ltd\nShankar Lal Rampal Dye-Chem Ltd\nAxita Cotton Ltd\nKPI Global Infrastructure Ltd\nRitco Logistics Ltd\nKranti Industries Ltd\nAnmol India Ltd\nGleam Fabmat Ltd\nMahip Industries Ltd\nAartech Solonics Ltd\nHumming Bird Education Ltd\nRoopshri Resorts Ltd\nAshapuri Gold Ornament Ltd\nNorthern Spirits Ltd\nArtemis Electricals Ltd\nJinaams Dress Ltd\nVR Films & Studios Ltd\nCian Healthcare Ltd\nEvans Electric Ltd\nG K P Printing & Packaging Ltd\nVivid Mercantile Ltd\nWhite Organic Retail Ltd\nParshva Enterprises Ltd\nSK International Export Ltd\n"
     ]
    }
   ],
   "source": [
    "f = open(\"stocklist2.txt\", \"r\")\n",
    "ticker=f.readlines()\n",
    "i=len(ticker)\n",
    "for line in range(i):\n",
    "    ticker[line]=ticker[line].split(\",\")\n",
    "    print(ticker[line][0])\n",
    "f.close()"
   ]
  },
  {
   "cell_type": "code",
   "execution_count": null,
   "metadata": {},
   "outputs": [],
   "source": []
  }
 ]
}