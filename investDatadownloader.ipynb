{
 "metadata": {
  "language_info": {
   "codemirror_mode": {
    "name": "ipython",
    "version": 3
   },
   "file_extension": ".py",
   "mimetype": "text/x-python",
   "name": "python",
   "nbconvert_exporter": "python",
   "pygments_lexer": "ipython3",
   "version": "3.8.10"
  },
  "orig_nbformat": 2,
  "kernelspec": {
   "name": "python3810jvsc74a57bd0c3e5d506cb742a7a1a9413631a72639548eb7e4c6177fe9d350f967afb9eb90e",
   "display_name": "Python 3.8.10 64-bit ('InvestDatafeed': conda)"
  },
  "metadata": {
   "interpreter": {
    "hash": "c3e5d506cb742a7a1a9413631a72639548eb7e4c6177fe9d350f967afb9eb90e"
   }
  }
 },
 "nbformat": 4,
 "nbformat_minor": 2,
 "cells": [
  {
   "cell_type": "code",
   "execution_count": 4,
   "metadata": {},
   "outputs": [],
   "source": [
    "import investpy\n",
    "import datetime"
   ]
  },
  {
   "cell_type": "code",
   "execution_count": null,
   "metadata": {},
   "outputs": [],
   "source": []
  },
  {
   "cell_type": "code",
   "execution_count": null,
   "metadata": {},
   "outputs": [],
   "source": [
    "stocks_list = investpy.get_stocks_list(country='india')\n",
    "#stocks_list = investpy.indices.get_indices(country='india')\n",
    "with open('stocklist2.txt', 'w') as f:\n",
    "    f.write('\\n'.join(stocks_list))"
   ]
  },
  {
   "cell_type": "code",
   "execution_count": null,
   "metadata": {},
   "outputs": [],
   "source": [
    "investpy.get_stock_countries()"
   ]
  },
  {
   "source": [
    "start=datetime.date.today()-datetime.timedelta(50)\n",
    "start.strftime(\"%d/%m/%Y\")\n",
    "\n"
   ],
   "cell_type": "code",
   "metadata": {},
   "execution_count": null,
   "outputs": []
  },
  {
   "cell_type": "code",
   "execution_count": null,
   "metadata": {},
   "outputs": [],
   "source": [
    "df = investpy.get_stock_recent_data(stock='ITDC',\n",
    "                                    country='india')\n",
    "print(df.head())                                    \n",
    "                                    "
   ]
  },
  {
   "cell_type": "code",
   "execution_count": null,
   "metadata": {},
   "outputs": [],
   "source": [
    "company_profile = investpy.get_stock_company_profile(stock='infy',\n",
    "                                                     country='india')\n",
    "print(company_profile)\n"
   ]
  },
  {
   "cell_type": "code",
   "execution_count": null,
   "metadata": {},
   "outputs": [],
   "source": [
    "investpy.stocks.get_stock_information(stock='INFY', country='india', as_json=False)"
   ]
  },
  {
   "cell_type": "code",
   "execution_count": null,
   "metadata": {},
   "outputs": [],
   "source": [
    "investpy.stocks.get_stocks(country='india')"
   ]
  },
  {
   "cell_type": "code",
   "execution_count": null,
   "metadata": {},
   "outputs": [],
   "source": [
    "investpy.get_stock_historical_data(stock='Hubt', country='india', from_date='01/01/2000', to_date='01/01/2021')\n"
   ]
  },
  {
   "cell_type": "code",
   "execution_count": 26,
   "metadata": {
    "tags": []
   },
   "outputs": [],
   "source": [
    "stocks_list =investpy.stocks.get_stocks_dict(country='india', columns=['full_name','symbol'], as_json=False)\n",
    "#print(stocks_list)\n",
    "i=len(stocks_list)\n",
    "for x in range(i):\n",
    "     dictt=list(stocks_list[x].values())\n",
    "     stri=str(dictt)\n",
    "     f= open('stocklist2.txt', 'a')\n",
    "     stri=stri.replace(\"'\",'')\n",
    "     stri=stri.replace(\"[\",'')\n",
    "     stri=stri.replace(\"]\",'')\n",
    "     f.write(stri)\n",
    "     if x<i-1:\n",
    "         f.write('\\n')\n",
    "     f.close()\n",
    "     \n",
    "\n",
    "\n"
   ]
  },
  {
   "cell_type": "code",
   "execution_count": 29,
   "metadata": {
    "tags": []
   },
   "outputs": [
    {
     "output_type": "stream",
     "name": "stdout",
     "text": [
      " ADTB\n\n"
     ]
    }
   ],
   "source": [
    "f = open(\"stocklist2.txt\", \"r\")\n",
    "ticker=f.readlines()\n",
    "ticker[0]=ticker[0].split(\",\")\n",
    "print(ticker[0][1])\n"
   ]
  },
  {
   "cell_type": "code",
   "execution_count": null,
   "metadata": {},
   "outputs": [],
   "source": []
  }
 ]
}